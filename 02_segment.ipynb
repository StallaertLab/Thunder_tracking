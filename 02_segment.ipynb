{
 "cells": [
  {
   "cell_type": "code",
   "execution_count": null,
   "metadata": {},
   "outputs": [],
   "source": [
    "import os\n",
    "import numpy as np\n",
    "import zarr\n",
    "from ome_zarr.io import parse_url\n",
    "from ome_zarr.reader import Reader\n",
    "from ome_zarr.writer import write_image\n",
    "from dask import delayed\n",
    "import dask.array as da\n",
    "from skimage.io import imsave, imread\n",
    "\n",
    "from cellpose import models\n",
    "\n",
    "import napari\n",
    "from napari.settings import get_settings\n",
    "get_settings().application.ipy_interactive = True\n",
    "\n",
    "from tqdm.notebook import tqdm\n",
    "\n",
    "from PIL import Image\n",
    "Image.MAX_IMAGE_PIXELS = None"
   ]
  },
  {
   "cell_type": "code",
   "execution_count": null,
   "metadata": {},
   "outputs": [],
   "source": [
    "# input \n",
    "input_path_zarr = r'R:\\Kasia\\tracking\\TrackGardener\\B4_C1_small.zarr'\n",
    "\n",
    "#output\n",
    "output_path_zarr = r'R:\\Kasia\\tracking\\TrackGardener\\C4_masks.zarr'\n",
    "save_png_dir = r'R:\\Kasia\\tracking\\TrackGardener\\C4_segmentation'\n",
    "\n",
    "# create the png directory if it doesn't exist\n",
    "os.makedirs(save_png_dir, exist_ok=True)\n",
    "\n",
    "# chunking for the output zarr\n",
    "size_t = 1\n",
    "size_xy = 2048"
   ]
  },
  {
   "cell_type": "code",
   "execution_count": null,
   "metadata": {},
   "outputs": [],
   "source": [
    "# read in the data\n",
    "reader = Reader(parse_url(input_path_zarr))\n",
    "\n",
    "image_node = list(reader())[0]\n",
    "dask_data = image_node.data[0]\n",
    "dask_data"
   ]
  },
  {
   "cell_type": "code",
   "execution_count": null,
   "metadata": {},
   "outputs": [],
   "source": [
    "# specify if all frame is to be segmented (start 0 and stop from dask_data.shape  for the full movie)\n",
    "params = {\n",
    "    'frame_start': 0,\n",
    "    'row_start': 0,\n",
    "    'col_start': 0,\n",
    "    'frame_stop': dask_data.shape[0],\n",
    "    'row_stop': dask_data.shape[1],\n",
    "    'col_stop': dask_data.shape[2],\n",
    "}\n",
    "\n",
    "# check that the values are acceptable\n",
    "\n",
    "# modify the values if they are negative\n",
    "data_shapes = [dask_data.shape[0], dask_data.shape[1], dask_data.shape[2]]\n",
    "params = {key: value + data_shapes[i % 3] if value < 0 else value for i, (key, value) in enumerate(params.items())}\n",
    "frame_start, row_start, col_start, frame_stop, row_stop, col_stop = [params[key] for key in params]\n",
    "\n",
    "\n",
    "assert frame_start < frame_stop, f'frame_start {frame_start} should be smaller than frame_stop {frame_stop}'\n",
    "assert row_start < row_stop, f'row_start {row_start} should be smaller than row_stop {row_stop}'\n",
    "assert col_start < col_stop, f'col_start {col_start} should be smaller than col_stop {col_stop}'\n",
    "\n",
    "print(f'Selected data of shape: {frame_stop - frame_start, row_stop - row_start, col_stop - col_start}')"
   ]
  },
  {
   "cell_type": "code",
   "execution_count": null,
   "metadata": {},
   "outputs": [],
   "source": [
    "# read cellpose model\n",
    "model = models.CellposeModel(gpu=True,model_type='cyto')"
   ]
  },
  {
   "cell_type": "markdown",
   "metadata": {},
   "source": [
    "### Segment to png files"
   ]
  },
  {
   "cell_type": "code",
   "execution_count": null,
   "metadata": {},
   "outputs": [],
   "source": [
    "# set parameters for segmentation\n",
    "# see https://cellpose.readthedocs.io/en/latest/api.html for details\n",
    "\n",
    "normalize_dict = {\n",
    "    \"percentile\": [1, 99], # defaults are 1 and 99\n",
    "    \"normalize\": True    \n",
    "}\n",
    "\n",
    "resample = False # default is True\n",
    "\n",
    "\n",
    "for i in tqdm(range(frame_start,frame_stop)):\n",
    "\n",
    "    im_frame = dask_data[i,row_start:row_stop,col_start:col_stop]\n",
    "    mask,_,_ = model.eval(im_frame,diameter = 60, normalize=normalize_dict, z_axis = 0,resample = resample)\n",
    "\n",
    "    save_path = os.path.join(save_png_dir,f'mask_{(str(i).zfill(3))}.png')\n",
    "    #imsave(save_path,mask)"
   ]
  },
  {
   "cell_type": "markdown",
   "metadata": {},
   "source": [
    "### Save masks as zarr"
   ]
  },
  {
   "cell_type": "code",
   "execution_count": null,
   "metadata": {},
   "outputs": [],
   "source": [
    "lazy_arrays = [delayed(imread)(os.path.join(save_png_dir,f'mask_{(str(i).zfill(3))}.png')) for i in range(frame_start,frame_stop)]\n",
    "dask_arrays = [da.from_delayed(delayed_reader, shape=mask.shape, dtype='uint16') for delayed_reader in lazy_arrays]\n",
    "stack = da.stack(dask_arrays, axis=0)\n",
    "stack"
   ]
  },
  {
   "cell_type": "code",
   "execution_count": null,
   "metadata": {},
   "outputs": [],
   "source": [
    "# save zarr file\n",
    "\n",
    "store = parse_url(output_path_zarr, mode=\"w\").store\n",
    "root = zarr.group(store=store)\n",
    "\n",
    "# it will fail if the store already contains arrays\n",
    "write_image(image=stack, group=root, axes=\"tyx\", storage_options=dict(chunks=(size_t,size_xy, size_xy)))"
   ]
  }
 ],
 "metadata": {
  "kernelspec": {
   "display_name": "cellpose-env",
   "language": "python",
   "name": "python3"
  },
  "language_info": {
   "codemirror_mode": {
    "name": "ipython",
    "version": 3
   },
   "file_extension": ".py",
   "mimetype": "text/x-python",
   "name": "python",
   "nbconvert_exporter": "python",
   "pygments_lexer": "ipython3",
   "version": "3.10.15"
  },
  "orig_nbformat": 4
 },
 "nbformat": 4,
 "nbformat_minor": 2
}
