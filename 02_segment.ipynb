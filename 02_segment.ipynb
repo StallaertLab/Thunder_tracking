{
 "cells": [
  {
   "cell_type": "code",
   "execution_count": 1,
   "metadata": {},
   "outputs": [],
   "source": [
    "import os\n",
    "import numpy as np\n",
    "import zarr\n",
    "from ome_zarr.io import parse_url\n",
    "from ome_zarr.reader import Reader\n",
    "from ome_zarr.writer import write_image\n",
    "from dask import delayed\n",
    "import dask.array as da\n",
    "from skimage.io import imsave, imread\n",
    "\n",
    "from cellpose import models\n",
    "\n",
    "import napari\n",
    "from napari.settings import get_settings\n",
    "get_settings().application.ipy_interactive = True\n",
    "\n",
    "from tqdm.notebook import tqdm\n",
    "\n",
    "from PIL import Image\n",
    "Image.MAX_IMAGE_PIXELS = None"
   ]
  },
  {
   "cell_type": "code",
   "execution_count": 3,
   "metadata": {},
   "outputs": [],
   "source": [
    "# input \n",
    "input_path_zarr = r'R:\\Kasia\\tracking\\TrackGardener\\B4_C1_small.zarr'\n",
    "\n",
    "#output\n",
    "output_path_zarr = r'R:\\Kasia\\tracking\\TrackGardener\\C4_masks.zarr'\n",
    "save_png_dir = r'R:\\Kasia\\tracking\\TrackGardener\\C4_segmentation'\n",
    "\n",
    "# create the png directory if it doesn't exist\n",
    "os.makedirs(save_png_dir, exist_ok=True)\n",
    "\n",
    "# chunking for the output zarr\n",
    "size_t = 1\n",
    "size_xy = 2048"
   ]
  },
  {
   "cell_type": "code",
   "execution_count": 4,
   "metadata": {},
   "outputs": [
    {
     "name": "stderr",
     "output_type": "stream",
     "text": [
      "c:\\Users\\Stallab\\AppData\\Local\\miniconda3\\envs\\cellpose-env\\lib\\site-packages\\zarr\\creation.py:614: UserWarning: ignoring keyword argument 'read_only'\n",
      "  compressor, fill_value = _kwargs_compat(compressor, fill_value, kwargs)\n"
     ]
    },
    {
     "data": {
      "text/html": [
       "<table>\n",
       "    <tr>\n",
       "        <td>\n",
       "            <table style=\"border-collapse: collapse;\">\n",
       "                <thead>\n",
       "                    <tr>\n",
       "                        <td> </td>\n",
       "                        <th> Array </th>\n",
       "                        <th> Chunk </th>\n",
       "                    </tr>\n",
       "                </thead>\n",
       "                <tbody>\n",
       "                    \n",
       "                    <tr>\n",
       "                        <th> Bytes </th>\n",
       "                        <td> 31.66 GiB </td>\n",
       "                        <td> 5.00 MiB </td>\n",
       "                    </tr>\n",
       "                    \n",
       "                    <tr>\n",
       "                        <th> Shape </th>\n",
       "                        <td> (241, 8400, 8396) </td>\n",
       "                        <td> (10, 512, 512) </td>\n",
       "                    </tr>\n",
       "                    <tr>\n",
       "                        <th> Dask graph </th>\n",
       "                        <td colspan=\"2\"> 7225 chunks in 2 graph layers </td>\n",
       "                    </tr>\n",
       "                    <tr>\n",
       "                        <th> Data type </th>\n",
       "                        <td colspan=\"2\"> uint16 numpy.ndarray </td>\n",
       "                    </tr>\n",
       "                </tbody>\n",
       "            </table>\n",
       "        </td>\n",
       "        <td>\n",
       "        <svg width=\"198\" height=\"188\" style=\"stroke:rgb(0,0,0);stroke-width:1\" >\n",
       "\n",
       "  <!-- Horizontal lines -->\n",
       "  <line x1=\"10\" y1=\"0\" x2=\"28\" y2=\"18\" style=\"stroke-width:2\" />\n",
       "  <line x1=\"10\" y1=\"7\" x2=\"28\" y2=\"25\" />\n",
       "  <line x1=\"10\" y1=\"14\" x2=\"28\" y2=\"32\" />\n",
       "  <line x1=\"10\" y1=\"21\" x2=\"28\" y2=\"40\" />\n",
       "  <line x1=\"10\" y1=\"29\" x2=\"28\" y2=\"47\" />\n",
       "  <line x1=\"10\" y1=\"36\" x2=\"28\" y2=\"54\" />\n",
       "  <line x1=\"10\" y1=\"43\" x2=\"28\" y2=\"62\" />\n",
       "  <line x1=\"10\" y1=\"51\" x2=\"28\" y2=\"69\" />\n",
       "  <line x1=\"10\" y1=\"58\" x2=\"28\" y2=\"76\" />\n",
       "  <line x1=\"10\" y1=\"65\" x2=\"28\" y2=\"84\" />\n",
       "  <line x1=\"10\" y1=\"73\" x2=\"28\" y2=\"91\" />\n",
       "  <line x1=\"10\" y1=\"80\" x2=\"28\" y2=\"98\" />\n",
       "  <line x1=\"10\" y1=\"87\" x2=\"28\" y2=\"106\" />\n",
       "  <line x1=\"10\" y1=\"95\" x2=\"28\" y2=\"113\" />\n",
       "  <line x1=\"10\" y1=\"102\" x2=\"28\" y2=\"120\" />\n",
       "  <line x1=\"10\" y1=\"109\" x2=\"28\" y2=\"128\" />\n",
       "  <line x1=\"10\" y1=\"117\" x2=\"28\" y2=\"135\" />\n",
       "  <line x1=\"10\" y1=\"120\" x2=\"28\" y2=\"138\" style=\"stroke-width:2\" />\n",
       "\n",
       "  <!-- Vertical lines -->\n",
       "  <line x1=\"10\" y1=\"0\" x2=\"10\" y2=\"120\" style=\"stroke-width:2\" />\n",
       "  <line x1=\"10\" y1=\"0\" x2=\"10\" y2=\"120\" />\n",
       "  <line x1=\"11\" y1=\"1\" x2=\"11\" y2=\"121\" />\n",
       "  <line x1=\"12\" y1=\"2\" x2=\"12\" y2=\"122\" />\n",
       "  <line x1=\"13\" y1=\"3\" x2=\"13\" y2=\"123\" />\n",
       "  <line x1=\"14\" y1=\"4\" x2=\"14\" y2=\"124\" />\n",
       "  <line x1=\"15\" y1=\"5\" x2=\"15\" y2=\"125\" />\n",
       "  <line x1=\"16\" y1=\"6\" x2=\"16\" y2=\"126\" />\n",
       "  <line x1=\"17\" y1=\"7\" x2=\"17\" y2=\"127\" />\n",
       "  <line x1=\"18\" y1=\"8\" x2=\"18\" y2=\"128\" />\n",
       "  <line x1=\"19\" y1=\"9\" x2=\"19\" y2=\"129\" />\n",
       "  <line x1=\"20\" y1=\"10\" x2=\"20\" y2=\"130\" />\n",
       "  <line x1=\"21\" y1=\"11\" x2=\"21\" y2=\"131\" />\n",
       "  <line x1=\"22\" y1=\"12\" x2=\"22\" y2=\"132\" />\n",
       "  <line x1=\"23\" y1=\"13\" x2=\"23\" y2=\"133\" />\n",
       "  <line x1=\"24\" y1=\"14\" x2=\"24\" y2=\"134\" />\n",
       "  <line x1=\"25\" y1=\"15\" x2=\"25\" y2=\"135\" />\n",
       "  <line x1=\"26\" y1=\"16\" x2=\"26\" y2=\"136\" />\n",
       "  <line x1=\"27\" y1=\"17\" x2=\"27\" y2=\"137\" />\n",
       "  <line x1=\"28\" y1=\"18\" x2=\"28\" y2=\"138\" style=\"stroke-width:2\" />\n",
       "\n",
       "  <!-- Colored Rectangle -->\n",
       "  <polygon points=\"10.0,0.0 28.30819692933535,18.30819692933535 28.30819692933535,138.30819692933534 10.0,120.0\" style=\"fill:#8B4903A0;stroke-width:0\"/>\n",
       "\n",
       "  <!-- Horizontal lines -->\n",
       "  <line x1=\"10\" y1=\"0\" x2=\"129\" y2=\"0\" style=\"stroke-width:2\" />\n",
       "  <line x1=\"10\" y1=\"0\" x2=\"130\" y2=\"0\" />\n",
       "  <line x1=\"11\" y1=\"1\" x2=\"131\" y2=\"1\" />\n",
       "  <line x1=\"12\" y1=\"2\" x2=\"132\" y2=\"2\" />\n",
       "  <line x1=\"13\" y1=\"3\" x2=\"133\" y2=\"3\" />\n",
       "  <line x1=\"14\" y1=\"4\" x2=\"134\" y2=\"4\" />\n",
       "  <line x1=\"15\" y1=\"5\" x2=\"135\" y2=\"5\" />\n",
       "  <line x1=\"16\" y1=\"6\" x2=\"136\" y2=\"6\" />\n",
       "  <line x1=\"17\" y1=\"7\" x2=\"137\" y2=\"7\" />\n",
       "  <line x1=\"18\" y1=\"8\" x2=\"138\" y2=\"8\" />\n",
       "  <line x1=\"19\" y1=\"9\" x2=\"139\" y2=\"9\" />\n",
       "  <line x1=\"20\" y1=\"10\" x2=\"140\" y2=\"10\" />\n",
       "  <line x1=\"21\" y1=\"11\" x2=\"141\" y2=\"11\" />\n",
       "  <line x1=\"22\" y1=\"12\" x2=\"142\" y2=\"12\" />\n",
       "  <line x1=\"23\" y1=\"13\" x2=\"143\" y2=\"13\" />\n",
       "  <line x1=\"24\" y1=\"14\" x2=\"144\" y2=\"14\" />\n",
       "  <line x1=\"25\" y1=\"15\" x2=\"145\" y2=\"15\" />\n",
       "  <line x1=\"26\" y1=\"16\" x2=\"146\" y2=\"16\" />\n",
       "  <line x1=\"27\" y1=\"17\" x2=\"147\" y2=\"17\" />\n",
       "  <line x1=\"28\" y1=\"18\" x2=\"148\" y2=\"18\" style=\"stroke-width:2\" />\n",
       "\n",
       "  <!-- Vertical lines -->\n",
       "  <line x1=\"10\" y1=\"0\" x2=\"28\" y2=\"18\" style=\"stroke-width:2\" />\n",
       "  <line x1=\"17\" y1=\"0\" x2=\"35\" y2=\"18\" />\n",
       "  <line x1=\"24\" y1=\"0\" x2=\"42\" y2=\"18\" />\n",
       "  <line x1=\"31\" y1=\"0\" x2=\"50\" y2=\"18\" />\n",
       "  <line x1=\"39\" y1=\"0\" x2=\"57\" y2=\"18\" />\n",
       "  <line x1=\"46\" y1=\"0\" x2=\"64\" y2=\"18\" />\n",
       "  <line x1=\"53\" y1=\"0\" x2=\"72\" y2=\"18\" />\n",
       "  <line x1=\"61\" y1=\"0\" x2=\"79\" y2=\"18\" />\n",
       "  <line x1=\"68\" y1=\"0\" x2=\"86\" y2=\"18\" />\n",
       "  <line x1=\"75\" y1=\"0\" x2=\"94\" y2=\"18\" />\n",
       "  <line x1=\"83\" y1=\"0\" x2=\"101\" y2=\"18\" />\n",
       "  <line x1=\"90\" y1=\"0\" x2=\"108\" y2=\"18\" />\n",
       "  <line x1=\"97\" y1=\"0\" x2=\"116\" y2=\"18\" />\n",
       "  <line x1=\"105\" y1=\"0\" x2=\"123\" y2=\"18\" />\n",
       "  <line x1=\"112\" y1=\"0\" x2=\"130\" y2=\"18\" />\n",
       "  <line x1=\"119\" y1=\"0\" x2=\"138\" y2=\"18\" />\n",
       "  <line x1=\"127\" y1=\"0\" x2=\"145\" y2=\"18\" />\n",
       "  <line x1=\"129\" y1=\"0\" x2=\"148\" y2=\"18\" style=\"stroke-width:2\" />\n",
       "\n",
       "  <!-- Colored Rectangle -->\n",
       "  <polygon points=\"10.0,0.0 129.94285714285715,0.0 148.2510540721925,18.30819692933535 28.30819692933535,18.30819692933535\" style=\"fill:#8B4903A0;stroke-width:0\"/>\n",
       "\n",
       "  <!-- Horizontal lines -->\n",
       "  <line x1=\"28\" y1=\"18\" x2=\"148\" y2=\"18\" style=\"stroke-width:2\" />\n",
       "  <line x1=\"28\" y1=\"25\" x2=\"148\" y2=\"25\" />\n",
       "  <line x1=\"28\" y1=\"32\" x2=\"148\" y2=\"32\" />\n",
       "  <line x1=\"28\" y1=\"40\" x2=\"148\" y2=\"40\" />\n",
       "  <line x1=\"28\" y1=\"47\" x2=\"148\" y2=\"47\" />\n",
       "  <line x1=\"28\" y1=\"54\" x2=\"148\" y2=\"54\" />\n",
       "  <line x1=\"28\" y1=\"62\" x2=\"148\" y2=\"62\" />\n",
       "  <line x1=\"28\" y1=\"69\" x2=\"148\" y2=\"69\" />\n",
       "  <line x1=\"28\" y1=\"76\" x2=\"148\" y2=\"76\" />\n",
       "  <line x1=\"28\" y1=\"84\" x2=\"148\" y2=\"84\" />\n",
       "  <line x1=\"28\" y1=\"91\" x2=\"148\" y2=\"91\" />\n",
       "  <line x1=\"28\" y1=\"98\" x2=\"148\" y2=\"98\" />\n",
       "  <line x1=\"28\" y1=\"106\" x2=\"148\" y2=\"106\" />\n",
       "  <line x1=\"28\" y1=\"113\" x2=\"148\" y2=\"113\" />\n",
       "  <line x1=\"28\" y1=\"120\" x2=\"148\" y2=\"120\" />\n",
       "  <line x1=\"28\" y1=\"128\" x2=\"148\" y2=\"128\" />\n",
       "  <line x1=\"28\" y1=\"135\" x2=\"148\" y2=\"135\" />\n",
       "  <line x1=\"28\" y1=\"138\" x2=\"148\" y2=\"138\" style=\"stroke-width:2\" />\n",
       "\n",
       "  <!-- Vertical lines -->\n",
       "  <line x1=\"28\" y1=\"18\" x2=\"28\" y2=\"138\" style=\"stroke-width:2\" />\n",
       "  <line x1=\"35\" y1=\"18\" x2=\"35\" y2=\"138\" />\n",
       "  <line x1=\"42\" y1=\"18\" x2=\"42\" y2=\"138\" />\n",
       "  <line x1=\"50\" y1=\"18\" x2=\"50\" y2=\"138\" />\n",
       "  <line x1=\"57\" y1=\"18\" x2=\"57\" y2=\"138\" />\n",
       "  <line x1=\"64\" y1=\"18\" x2=\"64\" y2=\"138\" />\n",
       "  <line x1=\"72\" y1=\"18\" x2=\"72\" y2=\"138\" />\n",
       "  <line x1=\"79\" y1=\"18\" x2=\"79\" y2=\"138\" />\n",
       "  <line x1=\"86\" y1=\"18\" x2=\"86\" y2=\"138\" />\n",
       "  <line x1=\"94\" y1=\"18\" x2=\"94\" y2=\"138\" />\n",
       "  <line x1=\"101\" y1=\"18\" x2=\"101\" y2=\"138\" />\n",
       "  <line x1=\"108\" y1=\"18\" x2=\"108\" y2=\"138\" />\n",
       "  <line x1=\"116\" y1=\"18\" x2=\"116\" y2=\"138\" />\n",
       "  <line x1=\"123\" y1=\"18\" x2=\"123\" y2=\"138\" />\n",
       "  <line x1=\"130\" y1=\"18\" x2=\"130\" y2=\"138\" />\n",
       "  <line x1=\"138\" y1=\"18\" x2=\"138\" y2=\"138\" />\n",
       "  <line x1=\"145\" y1=\"18\" x2=\"145\" y2=\"138\" />\n",
       "  <line x1=\"148\" y1=\"18\" x2=\"148\" y2=\"138\" style=\"stroke-width:2\" />\n",
       "\n",
       "  <!-- Colored Rectangle -->\n",
       "  <polygon points=\"28.30819692933535,18.30819692933535 148.2510540721925,18.30819692933535 148.2510540721925,138.30819692933534 28.30819692933535,138.30819692933534\" style=\"fill:#ECB172A0;stroke-width:0\"/>\n",
       "\n",
       "  <!-- Text -->\n",
       "  <text x=\"88.279626\" y=\"158.308197\" font-size=\"1.0rem\" font-weight=\"100\" text-anchor=\"middle\" >8396</text>\n",
       "  <text x=\"168.251054\" y=\"78.308197\" font-size=\"1.0rem\" font-weight=\"100\" text-anchor=\"middle\" transform=\"rotate(-90,168.251054,78.308197)\">8400</text>\n",
       "  <text x=\"9.154098\" y=\"149.154098\" font-size=\"1.0rem\" font-weight=\"100\" text-anchor=\"middle\" transform=\"rotate(45,9.154098,149.154098)\">241</text>\n",
       "</svg>\n",
       "        </td>\n",
       "    </tr>\n",
       "</table>"
      ],
      "text/plain": [
       "dask.array<from-zarr, shape=(241, 8400, 8396), dtype=uint16, chunksize=(10, 512, 512), chunktype=numpy.ndarray>"
      ]
     },
     "execution_count": 4,
     "metadata": {},
     "output_type": "execute_result"
    }
   ],
   "source": [
    "# read in the data\n",
    "reader = Reader(parse_url(input_path_zarr))\n",
    "\n",
    "image_node = list(reader())[0]\n",
    "dask_data = image_node.data[0]\n",
    "dask_data"
   ]
  },
  {
   "cell_type": "code",
   "execution_count": null,
   "metadata": {},
   "outputs": [
    {
     "name": "stdout",
     "output_type": "stream",
     "text": [
      "Selected data of shape: (2, 8400, 8396)\n"
     ]
    }
   ],
   "source": [
    "# specify if all frame is to be segmented (start 0 and stop from dask_data.shape  for the full movie)\n",
    "params = {\n",
    "    'frame_start': 0,\n",
    "    'row_start': 0,\n",
    "    'col_start': 0,\n",
    "    'frame_stop': dask_data.shape[0],\n",
    "    'row_stop': dask_data.shape[1],\n",
    "    'col_stop': dask_data.shape[2],\n",
    "}\n",
    "\n",
    "# check that the values are acceptable\n",
    "\n",
    "# modify the values if they are negative\n",
    "data_shapes = [dask_data.shape[0], dask_data.shape[1], dask_data.shape[2]]\n",
    "params = {key: value + data_shapes[i % 3] if value < 0 else value for i, (key, value) in enumerate(params.items())}\n",
    "frame_start, row_start, col_start, frame_stop, row_stop, col_stop = [params[key] for key in params]\n",
    "\n",
    "\n",
    "assert frame_start < frame_stop, f'frame_start {frame_start} should be smaller than frame_stop {frame_stop}'\n",
    "assert row_start < row_stop, f'row_start {row_start} should be smaller than row_stop {row_stop}'\n",
    "assert col_start < col_stop, f'col_start {col_start} should be smaller than col_stop {col_stop}'\n",
    "\n",
    "print(f'Selected data of shape: {frame_stop - frame_start, row_stop - row_start, col_stop - col_start}')"
   ]
  },
  {
   "cell_type": "code",
   "execution_count": 12,
   "metadata": {},
   "outputs": [
    {
     "name": "stderr",
     "output_type": "stream",
     "text": [
      "c:\\Users\\Stallab\\AppData\\Local\\miniconda3\\envs\\cellpose-env\\lib\\site-packages\\cellpose\\resnet_torch.py:271: FutureWarning: You are using `torch.load` with `weights_only=False` (the current default value), which uses the default pickle module implicitly. It is possible to construct malicious pickle data which will execute arbitrary code during unpickling (See https://github.com/pytorch/pytorch/blob/main/SECURITY.md#untrusted-models for more details). In a future release, the default value for `weights_only` will be flipped to `True`. This limits the functions that could be executed during unpickling. Arbitrary objects will no longer be allowed to be loaded via this mode unless they are explicitly allowlisted by the user via `torch.serialization.add_safe_globals`. We recommend you start setting `weights_only=True` for any use case where you don't have full control of the loaded file. Please open an issue on GitHub for any issues related to this experimental feature.\n",
      "  state_dict = torch.load(filename, map_location=device)\n"
     ]
    }
   ],
   "source": [
    "# read cellpose model\n",
    "model = models.CellposeModel(gpu=True,model_type='cyto')"
   ]
  },
  {
   "cell_type": "markdown",
   "metadata": {},
   "source": [
    "### Segment to png files"
   ]
  },
  {
   "cell_type": "code",
   "execution_count": null,
   "metadata": {},
   "outputs": [
    {
     "data": {
      "application/vnd.jupyter.widget-view+json": {
       "model_id": "71638629db4540209b85bae2d131c2d3",
       "version_major": 2,
       "version_minor": 0
      },
      "text/plain": [
       "  0%|          | 0/2 [00:00<?, ?it/s]"
      ]
     },
     "metadata": {},
     "output_type": "display_data"
    }
   ],
   "source": [
    "# set parameters for segmentation\n",
    "# see https://cellpose.readthedocs.io/en/latest/api.html for details\n",
    "\n",
    "normalize_dict = {\n",
    "    \"percentile\": [1, 99], # defaults are 1 and 99\n",
    "    \"normalize\": True    \n",
    "}\n",
    "\n",
    "resample = False # default is True\n",
    "\n",
    "\n",
    "for i in tqdm(range(frame_start,frame_stop)):\n",
    "\n",
    "    im_frame = dask_data[i,row_start:row_stop,col_start:col_stop]\n",
    "    mask,_,_ = model.eval(im_frame,diameter = 60, normalize=normalize_dict, z_axis = 0,resample = resample)\n",
    "\n",
    "    save_path = os.path.join(save_png_dir,f'mask_{(str(i).zfill(3))}.png')\n",
    "    #imsave(save_path,mask)"
   ]
  },
  {
   "cell_type": "markdown",
   "metadata": {},
   "source": [
    "### Save masks as zarr"
   ]
  },
  {
   "cell_type": "code",
   "execution_count": 19,
   "metadata": {},
   "outputs": [],
   "source": [
    "lazy_arrays = [delayed(imread)(os.path.join(save_png_dir,f'mask_{(str(i).zfill(3))}.png')) for i in range(frame_start,frame_stop)]\n",
    "dask_arrays = [da.from_delayed(delayed_reader, shape=mask.shape, dtype='uint16') for delayed_reader in lazy_arrays]\n",
    "stack = da.stack(dask_arrays, axis=0)\n",
    "stack"
   ]
  },
  {
   "cell_type": "code",
   "execution_count": 21,
   "metadata": {},
   "outputs": [
    {
     "data": {
      "text/plain": [
       "[]"
      ]
     },
     "execution_count": 21,
     "metadata": {},
     "output_type": "execute_result"
    }
   ],
   "source": [
    "# save zarr file\n",
    "\n",
    "store = parse_url(output_path_zarr, mode=\"w\").store\n",
    "root = zarr.group(store=store)\n",
    "\n",
    "# it will fail if the store already contains arrays\n",
    "write_image(image=stack, group=root, axes=\"tyx\", storage_options=dict(chunks=(size_t,size_xy, size_xy)))"
   ]
  }
 ],
 "metadata": {
  "kernelspec": {
   "display_name": "cellpose-env",
   "language": "python",
   "name": "python3"
  },
  "language_info": {
   "codemirror_mode": {
    "name": "ipython",
    "version": 3
   },
   "file_extension": ".py",
   "mimetype": "text/x-python",
   "name": "python",
   "nbconvert_exporter": "python",
   "pygments_lexer": "ipython3",
   "version": "3.10.15"
  },
  "orig_nbformat": 4
 },
 "nbformat": 4,
 "nbformat_minor": 2
}
