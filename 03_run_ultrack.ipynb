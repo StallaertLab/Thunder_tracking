{
 "cells": [
  {
   "cell_type": "code",
   "execution_count": 1,
   "metadata": {},
   "outputs": [
    {
     "name": "stdout",
     "output_type": "stream",
     "text": [
      "True\n"
     ]
    }
   ],
   "source": [
    "import torch\n",
    "print(torch.cuda.is_available())\n",
    "\n",
    "import os\n",
    "import zarr\n",
    "import dask.array as da\n",
    "from rechunker import rechunk\n",
    "from numcodecs import Blosc\n",
    "\n",
    "import napari\n",
    "import numpy as np\n",
    "from tqdm import tqdm\n",
    "from rich.pretty import pprint\n",
    "\n",
    "\n",
    "from ultrack import track, to_tracks_layer, tracks_to_zarr\n",
    "from ultrack.utils import labels_to_edges\n",
    "from ultrack.config import MainConfig\n"
   ]
  },
  {
   "cell_type": "code",
   "execution_count": 9,
   "metadata": {},
   "outputs": [],
   "source": [
    "# pathway to labels\n",
    "zarr_masks_path = r'D:\\kasia\\tracking\\E6_exp\\E6_small_masks.zarr'\n",
    "\n",
    "# restrict to a subset of the data for testing (optional)\n",
    "frames_start = 115\n",
    "frames_stop = 125\n",
    "row_start = 4250\n",
    "row_stop = 4750\n",
    "col_start = 4200\n",
    "col_stop = 4900\n",
    "\n",
    "# frames_start = 0\n",
    "# frames_stop = -1\n",
    "# row_start = 0\n",
    "# row_stop = -1\n",
    "# col_start = 0\n",
    "# col_stop = -1\n",
    "\n",
    "# pathway to save tracked (re-labelled) masks\n",
    "tracked_path = r'D:\\kasia\\tracking\\E6_exp\\labels_test_241001.zarr'\n",
    "# chunk size for the tracked masks\n",
    "target_chunks = (1, 300, 300)  "
   ]
  },
  {
   "cell_type": "code",
   "execution_count": 3,
   "metadata": {},
   "outputs": [
    {
     "data": {
      "text/html": [
       "<pre style=\"white-space:pre;overflow-x:auto;line-height:normal;font-family:Menlo,'DejaVu Sans Mono',consolas,'Courier New',monospace\"><span style=\"color: #800080; text-decoration-color: #800080; font-weight: bold\">MainConfig</span><span style=\"font-weight: bold\">(</span>\n",
       "<span style=\"color: #7fbf7f; text-decoration-color: #7fbf7f\">│   </span><span style=\"color: #808000; text-decoration-color: #808000\">data_config</span>=<span style=\"color: #800080; text-decoration-color: #800080; font-weight: bold\">DataConfig</span><span style=\"font-weight: bold\">(</span><span style=\"color: #808000; text-decoration-color: #808000\">working_dir</span>=<span style=\"color: #800080; text-decoration-color: #800080; font-weight: bold\">WindowsPath</span><span style=\"font-weight: bold\">(</span><span style=\"color: #008000; text-decoration-color: #008000\">'.'</span><span style=\"font-weight: bold\">)</span>, <span style=\"color: #808000; text-decoration-color: #808000\">database</span>=<span style=\"color: #008000; text-decoration-color: #008000\">'sqlite'</span>, <span style=\"color: #808000; text-decoration-color: #808000\">address</span>=<span style=\"color: #800080; text-decoration-color: #800080; font-style: italic\">None</span>, <span style=\"color: #808000; text-decoration-color: #808000\">n_workers</span>=<span style=\"color: #008080; text-decoration-color: #008080; font-weight: bold\">1</span><span style=\"font-weight: bold\">)</span>,\n",
       "<span style=\"color: #7fbf7f; text-decoration-color: #7fbf7f\">│   </span><span style=\"color: #808000; text-decoration-color: #808000\">segmentation_config</span>=<span style=\"color: #800080; text-decoration-color: #800080; font-weight: bold\">SegmentationConfig</span><span style=\"font-weight: bold\">(</span>\n",
       "<span style=\"color: #7fbf7f; text-decoration-color: #7fbf7f\">│   │   </span><span style=\"color: #808000; text-decoration-color: #808000\">threshold</span>=<span style=\"color: #008080; text-decoration-color: #008080; font-weight: bold\">0.5</span>,\n",
       "<span style=\"color: #7fbf7f; text-decoration-color: #7fbf7f\">│   │   </span><span style=\"color: #808000; text-decoration-color: #808000\">min_area</span>=<span style=\"color: #008080; text-decoration-color: #008080; font-weight: bold\">400</span>,\n",
       "<span style=\"color: #7fbf7f; text-decoration-color: #7fbf7f\">│   │   </span><span style=\"color: #808000; text-decoration-color: #808000\">max_area</span>=<span style=\"color: #008080; text-decoration-color: #008080; font-weight: bold\">2000</span>,\n",
       "<span style=\"color: #7fbf7f; text-decoration-color: #7fbf7f\">│   │   </span><span style=\"color: #808000; text-decoration-color: #808000\">min_frontier</span>=<span style=\"color: #008080; text-decoration-color: #008080; font-weight: bold\">0.1</span>,\n",
       "<span style=\"color: #7fbf7f; text-decoration-color: #7fbf7f\">│   │   </span><span style=\"color: #808000; text-decoration-color: #808000\">anisotropy_penalization</span>=<span style=\"color: #008080; text-decoration-color: #008080; font-weight: bold\">0.0</span>,\n",
       "<span style=\"color: #7fbf7f; text-decoration-color: #7fbf7f\">│   │   </span><span style=\"color: #808000; text-decoration-color: #808000\">max_noise</span>=<span style=\"color: #008080; text-decoration-color: #008080; font-weight: bold\">0.0</span>,\n",
       "<span style=\"color: #7fbf7f; text-decoration-color: #7fbf7f\">│   │   </span><span style=\"color: #808000; text-decoration-color: #808000\">ws_hierarchy</span>=<span style=\"font-weight: bold\">&lt;</span><span style=\"color: #ff00ff; text-decoration-color: #ff00ff; font-weight: bold\">function</span><span style=\"color: #000000; text-decoration-color: #000000\"> watershed_hierarchy_by_area at </span><span style=\"color: #008080; text-decoration-color: #008080; font-weight: bold\">0x000001A1FFB264D0</span><span style=\"font-weight: bold\">&gt;</span>,\n",
       "<span style=\"color: #7fbf7f; text-decoration-color: #7fbf7f\">│   │   </span><span style=\"color: #808000; text-decoration-color: #808000\">n_workers</span>=<span style=\"color: #008080; text-decoration-color: #008080; font-weight: bold\">10</span>\n",
       "<span style=\"color: #7fbf7f; text-decoration-color: #7fbf7f\">│   </span><span style=\"font-weight: bold\">)</span>,\n",
       "<span style=\"color: #7fbf7f; text-decoration-color: #7fbf7f\">│   </span><span style=\"color: #808000; text-decoration-color: #808000\">linking_config</span>=<span style=\"color: #800080; text-decoration-color: #800080; font-weight: bold\">LinkingConfig</span><span style=\"font-weight: bold\">(</span>\n",
       "<span style=\"color: #7fbf7f; text-decoration-color: #7fbf7f\">│   │   </span><span style=\"color: #808000; text-decoration-color: #808000\">n_workers</span>=<span style=\"color: #008080; text-decoration-color: #008080; font-weight: bold\">10</span>,\n",
       "<span style=\"color: #7fbf7f; text-decoration-color: #7fbf7f\">│   │   </span><span style=\"color: #808000; text-decoration-color: #808000\">max_neighbors</span>=<span style=\"color: #008080; text-decoration-color: #008080; font-weight: bold\">5</span>,\n",
       "<span style=\"color: #7fbf7f; text-decoration-color: #7fbf7f\">│   │   </span><span style=\"color: #808000; text-decoration-color: #808000\">max_distance</span>=<span style=\"color: #008080; text-decoration-color: #008080; font-weight: bold\">25</span>,\n",
       "<span style=\"color: #7fbf7f; text-decoration-color: #7fbf7f\">│   │   </span><span style=\"color: #808000; text-decoration-color: #808000\">distance_weight</span>=<span style=\"color: #008080; text-decoration-color: #008080; font-weight: bold\">0.0</span>,\n",
       "<span style=\"color: #7fbf7f; text-decoration-color: #7fbf7f\">│   │   </span><span style=\"color: #808000; text-decoration-color: #808000\">z_score_threshold</span>=<span style=\"color: #008080; text-decoration-color: #008080; font-weight: bold\">5.0</span>\n",
       "<span style=\"color: #7fbf7f; text-decoration-color: #7fbf7f\">│   </span><span style=\"font-weight: bold\">)</span>,\n",
       "<span style=\"color: #7fbf7f; text-decoration-color: #7fbf7f\">│   </span><span style=\"color: #808000; text-decoration-color: #808000\">tracking_config</span>=<span style=\"color: #800080; text-decoration-color: #800080; font-weight: bold\">TrackingConfig</span><span style=\"font-weight: bold\">(</span>\n",
       "<span style=\"color: #7fbf7f; text-decoration-color: #7fbf7f\">│   │   </span><span style=\"color: #808000; text-decoration-color: #808000\">appear_weight</span>=<span style=\"color: #008080; text-decoration-color: #008080; font-weight: bold\">-1</span>,\n",
       "<span style=\"color: #7fbf7f; text-decoration-color: #7fbf7f\">│   │   </span><span style=\"color: #808000; text-decoration-color: #808000\">disappear_weight</span>=<span style=\"color: #008080; text-decoration-color: #008080; font-weight: bold\">-1</span>,\n",
       "<span style=\"color: #7fbf7f; text-decoration-color: #7fbf7f\">│   │   </span><span style=\"color: #808000; text-decoration-color: #808000\">division_weight</span>=<span style=\"color: #008080; text-decoration-color: #008080; font-weight: bold\">-0.1</span>,\n",
       "<span style=\"color: #7fbf7f; text-decoration-color: #7fbf7f\">│   │   </span><span style=\"color: #808000; text-decoration-color: #808000\">dismiss_weight_guess</span>=<span style=\"color: #800080; text-decoration-color: #800080; font-style: italic\">None</span>,\n",
       "<span style=\"color: #7fbf7f; text-decoration-color: #7fbf7f\">│   │   </span><span style=\"color: #808000; text-decoration-color: #808000\">include_weight_guess</span>=<span style=\"color: #800080; text-decoration-color: #800080; font-style: italic\">None</span>,\n",
       "<span style=\"color: #7fbf7f; text-decoration-color: #7fbf7f\">│   │   </span><span style=\"color: #808000; text-decoration-color: #808000\">window_size</span>=<span style=\"color: #008080; text-decoration-color: #008080; font-weight: bold\">50</span>,\n",
       "<span style=\"color: #7fbf7f; text-decoration-color: #7fbf7f\">│   │   </span><span style=\"color: #808000; text-decoration-color: #808000\">overlap_size</span>=<span style=\"color: #008080; text-decoration-color: #008080; font-weight: bold\">5</span>,\n",
       "<span style=\"color: #7fbf7f; text-decoration-color: #7fbf7f\">│   │   </span><span style=\"color: #808000; text-decoration-color: #808000\">solution_gap</span>=<span style=\"color: #008080; text-decoration-color: #008080; font-weight: bold\">0.0</span>,\n",
       "<span style=\"color: #7fbf7f; text-decoration-color: #7fbf7f\">│   │   </span><span style=\"color: #808000; text-decoration-color: #808000\">time_limit</span>=<span style=\"color: #008080; text-decoration-color: #008080; font-weight: bold\">36000</span>,\n",
       "<span style=\"color: #7fbf7f; text-decoration-color: #7fbf7f\">│   │   </span><span style=\"color: #808000; text-decoration-color: #808000\">method</span>=<span style=\"color: #008080; text-decoration-color: #008080; font-weight: bold\">0</span>,\n",
       "<span style=\"color: #7fbf7f; text-decoration-color: #7fbf7f\">│   │   </span><span style=\"color: #808000; text-decoration-color: #808000\">n_threads</span>=<span style=\"color: #008080; text-decoration-color: #008080; font-weight: bold\">-1</span>,\n",
       "<span style=\"color: #7fbf7f; text-decoration-color: #7fbf7f\">│   │   </span><span style=\"color: #808000; text-decoration-color: #808000\">link_function</span>=<span style=\"color: #008000; text-decoration-color: #008000\">'power'</span>,\n",
       "<span style=\"color: #7fbf7f; text-decoration-color: #7fbf7f\">│   │   </span><span style=\"color: #808000; text-decoration-color: #808000\">power</span>=<span style=\"color: #008080; text-decoration-color: #008080; font-weight: bold\">4</span>,\n",
       "<span style=\"color: #7fbf7f; text-decoration-color: #7fbf7f\">│   │   </span><span style=\"color: #808000; text-decoration-color: #808000\">bias</span>=<span style=\"color: #008080; text-decoration-color: #008080; font-weight: bold\">-0.001</span>\n",
       "<span style=\"color: #7fbf7f; text-decoration-color: #7fbf7f\">│   </span><span style=\"font-weight: bold\">)</span>\n",
       "<span style=\"font-weight: bold\">)</span>\n",
       "</pre>\n"
      ],
      "text/plain": [
       "\u001b[1;35mMainConfig\u001b[0m\u001b[1m(\u001b[0m\n",
       "\u001b[2;32m│   \u001b[0m\u001b[33mdata_config\u001b[0m=\u001b[1;35mDataConfig\u001b[0m\u001b[1m(\u001b[0m\u001b[33mworking_dir\u001b[0m=\u001b[1;35mWindowsPath\u001b[0m\u001b[1m(\u001b[0m\u001b[32m'.'\u001b[0m\u001b[1m)\u001b[0m, \u001b[33mdatabase\u001b[0m=\u001b[32m'sqlite'\u001b[0m, \u001b[33maddress\u001b[0m=\u001b[3;35mNone\u001b[0m, \u001b[33mn_workers\u001b[0m=\u001b[1;36m1\u001b[0m\u001b[1m)\u001b[0m,\n",
       "\u001b[2;32m│   \u001b[0m\u001b[33msegmentation_config\u001b[0m=\u001b[1;35mSegmentationConfig\u001b[0m\u001b[1m(\u001b[0m\n",
       "\u001b[2;32m│   │   \u001b[0m\u001b[33mthreshold\u001b[0m=\u001b[1;36m0\u001b[0m\u001b[1;36m.5\u001b[0m,\n",
       "\u001b[2;32m│   │   \u001b[0m\u001b[33mmin_area\u001b[0m=\u001b[1;36m400\u001b[0m,\n",
       "\u001b[2;32m│   │   \u001b[0m\u001b[33mmax_area\u001b[0m=\u001b[1;36m2000\u001b[0m,\n",
       "\u001b[2;32m│   │   \u001b[0m\u001b[33mmin_frontier\u001b[0m=\u001b[1;36m0\u001b[0m\u001b[1;36m.1\u001b[0m,\n",
       "\u001b[2;32m│   │   \u001b[0m\u001b[33manisotropy_penalization\u001b[0m=\u001b[1;36m0\u001b[0m\u001b[1;36m.0\u001b[0m,\n",
       "\u001b[2;32m│   │   \u001b[0m\u001b[33mmax_noise\u001b[0m=\u001b[1;36m0\u001b[0m\u001b[1;36m.0\u001b[0m,\n",
       "\u001b[2;32m│   │   \u001b[0m\u001b[33mws_hierarchy\u001b[0m=\u001b[1m<\u001b[0m\u001b[1;95mfunction\u001b[0m\u001b[39m watershed_hierarchy_by_area at \u001b[0m\u001b[1;36m0x000001A1FFB264D0\u001b[0m\u001b[1m>\u001b[0m,\n",
       "\u001b[2;32m│   │   \u001b[0m\u001b[33mn_workers\u001b[0m=\u001b[1;36m10\u001b[0m\n",
       "\u001b[2;32m│   \u001b[0m\u001b[1m)\u001b[0m,\n",
       "\u001b[2;32m│   \u001b[0m\u001b[33mlinking_config\u001b[0m=\u001b[1;35mLinkingConfig\u001b[0m\u001b[1m(\u001b[0m\n",
       "\u001b[2;32m│   │   \u001b[0m\u001b[33mn_workers\u001b[0m=\u001b[1;36m10\u001b[0m,\n",
       "\u001b[2;32m│   │   \u001b[0m\u001b[33mmax_neighbors\u001b[0m=\u001b[1;36m5\u001b[0m,\n",
       "\u001b[2;32m│   │   \u001b[0m\u001b[33mmax_distance\u001b[0m=\u001b[1;36m25\u001b[0m,\n",
       "\u001b[2;32m│   │   \u001b[0m\u001b[33mdistance_weight\u001b[0m=\u001b[1;36m0\u001b[0m\u001b[1;36m.0\u001b[0m,\n",
       "\u001b[2;32m│   │   \u001b[0m\u001b[33mz_score_threshold\u001b[0m=\u001b[1;36m5\u001b[0m\u001b[1;36m.0\u001b[0m\n",
       "\u001b[2;32m│   \u001b[0m\u001b[1m)\u001b[0m,\n",
       "\u001b[2;32m│   \u001b[0m\u001b[33mtracking_config\u001b[0m=\u001b[1;35mTrackingConfig\u001b[0m\u001b[1m(\u001b[0m\n",
       "\u001b[2;32m│   │   \u001b[0m\u001b[33mappear_weight\u001b[0m=\u001b[1;36m-1\u001b[0m,\n",
       "\u001b[2;32m│   │   \u001b[0m\u001b[33mdisappear_weight\u001b[0m=\u001b[1;36m-1\u001b[0m,\n",
       "\u001b[2;32m│   │   \u001b[0m\u001b[33mdivision_weight\u001b[0m=\u001b[1;36m-0.1\u001b[0m,\n",
       "\u001b[2;32m│   │   \u001b[0m\u001b[33mdismiss_weight_guess\u001b[0m=\u001b[3;35mNone\u001b[0m,\n",
       "\u001b[2;32m│   │   \u001b[0m\u001b[33minclude_weight_guess\u001b[0m=\u001b[3;35mNone\u001b[0m,\n",
       "\u001b[2;32m│   │   \u001b[0m\u001b[33mwindow_size\u001b[0m=\u001b[1;36m50\u001b[0m,\n",
       "\u001b[2;32m│   │   \u001b[0m\u001b[33moverlap_size\u001b[0m=\u001b[1;36m5\u001b[0m,\n",
       "\u001b[2;32m│   │   \u001b[0m\u001b[33msolution_gap\u001b[0m=\u001b[1;36m0\u001b[0m\u001b[1;36m.0\u001b[0m,\n",
       "\u001b[2;32m│   │   \u001b[0m\u001b[33mtime_limit\u001b[0m=\u001b[1;36m36000\u001b[0m,\n",
       "\u001b[2;32m│   │   \u001b[0m\u001b[33mmethod\u001b[0m=\u001b[1;36m0\u001b[0m,\n",
       "\u001b[2;32m│   │   \u001b[0m\u001b[33mn_threads\u001b[0m=\u001b[1;36m-1\u001b[0m,\n",
       "\u001b[2;32m│   │   \u001b[0m\u001b[33mlink_function\u001b[0m=\u001b[32m'power'\u001b[0m,\n",
       "\u001b[2;32m│   │   \u001b[0m\u001b[33mpower\u001b[0m=\u001b[1;36m4\u001b[0m,\n",
       "\u001b[2;32m│   │   \u001b[0m\u001b[33mbias\u001b[0m=\u001b[1;36m-0.001\u001b[0m\n",
       "\u001b[2;32m│   \u001b[0m\u001b[1m)\u001b[0m\n",
       "\u001b[1m)\u001b[0m\n"
      ]
     },
     "metadata": {},
     "output_type": "display_data"
    }
   ],
   "source": [
    "# tracking parameters\n",
    "\n",
    "config = MainConfig()\n",
    "config.segmentation_config.min_area = 400\n",
    "config.segmentation_config.max_area = 2000\n",
    "config.segmentation_config.min_frontier = 0.1\n",
    "config.segmentation_config.n_workers = 10\n",
    "\n",
    "config.linking_config.max_distance = 25\n",
    "config.linking_config.n_workers = 10\n",
    "\n",
    "config.tracking_config.appear_weight = -1\n",
    "config.tracking_config.disappear_weight = -1\n",
    "config.tracking_config.division_weight = -0.1\n",
    "config.tracking_config.power = 4\n",
    "config.tracking_config.bias = -0.001\n",
    "config.tracking_config.solution_gap = 0.0\n",
    "\n",
    "config.tracking_config.window_size = 50\n",
    "config.tracking_config.overlap_size = 5\n",
    "\n",
    "pprint(config)"
   ]
  },
  {
   "cell_type": "code",
   "execution_count": 4,
   "metadata": {},
   "outputs": [
    {
     "data": {
      "text/plain": [
       "(10, 500, 700)"
      ]
     },
     "execution_count": 4,
     "metadata": {},
     "output_type": "execute_result"
    }
   ],
   "source": [
    "# change the working directory\n",
    "os.chdir(os.path.dirname(zarr_masks_path))\n",
    "\n",
    "# read in masks\n",
    "dask_masks = da.from_zarr(zarr_masks_path,0)[frames_start:frames_stop, row_start:row_stop, col_start:col_stop]\n",
    "dask_masks.shape"
   ]
  },
  {
   "cell_type": "code",
   "execution_count": 5,
   "metadata": {},
   "outputs": [
    {
     "name": "stderr",
     "output_type": "stream",
     "text": [
      "c:\\Users\\kmk280\\AppData\\Local\\miniconda3\\envs\\tracking\\lib\\site-packages\\ultrack\\utils\\array.py:185: FutureWarning: The NestedDirectoryStore is deprecated and will be removed in a Zarr-Python version 3, see https://github.com/zarr-developers/zarr-python/issues/1274 for more information.\n",
      "  store = zarr.NestedDirectoryStore(str(store_or_path))\n",
      "Converting labels to edges: 100%|██████████| 10/10 [00:00<00:00, 19.76it/s]\n"
     ]
    }
   ],
   "source": [
    "# convert labels to detections and edges\n",
    "# they will be automatically saved to the working directory\n",
    "\n",
    "detections, edges = labels_to_edges(dask_masks, \n",
    "                                   detection_store_or_path=\"detection.zarr\", \n",
    "                                   edges_store_or_path=\"edges.zarr\", \n",
    "                                   overwrite=True, \n",
    "                                   sigma=4.0)"
   ]
  },
  {
   "cell_type": "code",
   "execution_count": 6,
   "metadata": {},
   "outputs": [
    {
     "name": "stderr",
     "output_type": "stream",
     "text": [
      "Adding nodes to database: 100%|██████████| 10/10 [00:09<00:00,  1.10it/s]\n",
      "Linking nodes.: 100%|██████████| 9/9 [00:09<00:00,  1.09s/it]\n"
     ]
    },
    {
     "name": "stdout",
     "output_type": "stream",
     "text": [
      "Using Gurobi solver\n",
      "Solving ILP batch 0\n",
      "Constructing ILP ...\n",
      "Solving ILP ...\n",
      "Saving solution ...\n",
      "Done!\n"
     ]
    }
   ],
   "source": [
    "# tracking from detections and edges\n",
    "\n",
    "track(\n",
    "    detection=detections,\n",
    "    edges=edges,\n",
    "    config=config,\n",
    "    overwrite=True, #\"solutions\" - to recalculate from the database\n",
    ")"
   ]
  },
  {
   "cell_type": "code",
   "execution_count": 7,
   "metadata": {},
   "outputs": [
    {
     "name": "stderr",
     "output_type": "stream",
     "text": [
      "c:\\Users\\kmk280\\AppData\\Local\\miniconda3\\envs\\tracking\\lib\\site-packages\\numba\\typed\\typeddict.py:39: NumbaTypeSafetyWarning: \u001b[1m\u001b[1m\u001b[1munsafe cast from int64 to int32. Precision may be lost.\u001b[0m\u001b[0m\u001b[0m\n",
      "  return d[key]\n",
      "Exporting segmentation masks: 100%|██████████| 10/10 [00:00<00:00, 136.99it/s]\n"
     ]
    }
   ],
   "source": [
    "# extract labels\n",
    "\n",
    "tracks_df, graph = to_tracks_layer(config)\n",
    "labels = tracks_to_zarr(config, tracks_df)"
   ]
  },
  {
   "cell_type": "code",
   "execution_count": 24,
   "metadata": {},
   "outputs": [
    {
     "data": {
      "text/plain": [
       "<zarr.core.Array (10, 500, 700) int32>"
      ]
     },
     "execution_count": 24,
     "metadata": {},
     "output_type": "execute_result"
    }
   ],
   "source": [
    "# Define the target store and array parameters\n",
    "target_store = zarr.DirectoryStore(tracked_path, dimension_separator=\"/\") \n",
    "\n",
    "\n",
    "compressor = Blosc(cname='lz4', clevel=5, shuffle=Blosc.SHUFFLE, blocksize=0)\n",
    "\n",
    "rechunked = rechunk(labels, \n",
    "                    max_mem=500000000,\n",
    "                    target_chunks=target_chunks, \n",
    "                    target_store=target_store,\n",
    "                    target_options={'compressor': compressor},\n",
    "                    )\n",
    "\n",
    "rechunked.execute()"
   ]
  }
 ],
 "metadata": {
  "kernelspec": {
   "display_name": "Python 3 (ipykernel)",
   "language": "python",
   "name": "python3"
  },
  "language_info": {
   "codemirror_mode": {
    "name": "ipython",
    "version": 3
   },
   "file_extension": ".py",
   "mimetype": "text/x-python",
   "name": "python",
   "nbconvert_exporter": "python",
   "pygments_lexer": "ipython3",
   "version": "3.10.14"
  }
 },
 "nbformat": 4,
 "nbformat_minor": 4
}
